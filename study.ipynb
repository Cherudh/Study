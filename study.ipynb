{
 "cells": [
  {
   "cell_type": "markdown",
   "id": "ea43672c-f968-4ad1-9cf6-269280b9d7ea",
   "metadata": {},
   "source": [
    "# My jupyter Notebook on Anaconda Navigator.\n"
   ]
  },
  {
   "cell_type": "markdown",
   "id": "dd4f9098-4bb8-4953-8a1e-1d22018ff484",
   "metadata": {},
   "source": [
    "**YAHYA JAREER**\n",
    "\n",
    "Occupation - Student\n",
    "\n"
   ]
  },
  {
   "cell_type": "markdown",
   "id": "a3d64eeb-4ed6-4266-a070-2e000ca49a33",
   "metadata": {},
   "source": [
    "*I am interested in data science because i wants to involve in future Innovation.*"
   ]
  },
  {
   "cell_type": "markdown",
   "id": "a369ce6c-9880-4501-a68a-40e7b8b4512b",
   "metadata": {},
   "source": [
    "### This code Allows you to Convert KM's to Miles."
   ]
  },
  {
   "cell_type": "code",
   "execution_count": 1,
   "id": "1024bd73-e9c1-4ce0-909e-2b00d4afee7c",
   "metadata": {},
   "outputs": [
    {
     "name": "stdin",
     "output_type": "stream",
     "text": [
      "Enter value in kilometers:  22\n"
     ]
    },
    {
     "name": "stdout",
     "output_type": "stream",
     "text": [
      "22.00 kilometers is equal to 13.67 miles\n"
     ]
    }
   ],
   "source": [
    "# Taking kilometers input from user.\n",
    "kilometers = float(input(\"Enter value in kilometers: \"))\n",
    "\n",
    "# conversion factor\n",
    "conv_fac = 0.621371\n",
    "\n",
    "# calculate miles\n",
    "miles = kilometers * conv_fac\n",
    "print('%0.2f kilometers is equal to %0.2f miles' %(kilometers,miles))\n"
   ]
  },
  {
   "cell_type": "markdown",
   "id": "8cb41dbf-3c89-4222-8550-da3a080821fa",
   "metadata": {},
   "source": [
    "*******\n",
    "\n",
    "#### so here i will put Hyperlinks , number list "
   ]
  },
  {
   "cell_type": "markdown",
   "id": "2d5489c2-322d-4c65-b968-ecf92415d0aa",
   "metadata": {},
   "source": [
    "1. [python](https://www.google.co.in/url?sa=i&url=https%3A%2F%2Fen.wikipedia.org%2Fwiki%2FPython_%2528programming_language%2529&psig=AOvVaw1E_HH2OhqRcJWF8dY4IHgj&ust=1674029836770000&source=images&cd=vfe&ved=0CA0QjRxqFwoTCPCmqKCVzvwCFQAAAAAdAAAAABAD)\n",
    "2. lists\n",
    "3. Thank you"
   ]
  }
 ],
 "metadata": {
  "kernelspec": {
   "display_name": "Python 3 (ipykernel)",
   "language": "python",
   "name": "python3"
  },
  "language_info": {
   "codemirror_mode": {
    "name": "ipython",
    "version": 3
   },
   "file_extension": ".py",
   "mimetype": "text/x-python",
   "name": "python",
   "nbconvert_exporter": "python",
   "pygments_lexer": "ipython3",
   "version": "3.9.13"
  }
 },
 "nbformat": 4,
 "nbformat_minor": 5
}
